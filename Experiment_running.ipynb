{
 "cells": [
  {
   "cell_type": "code",
   "execution_count": 1,
   "id": "c1e15cd0",
   "metadata": {},
   "outputs": [
    {
     "name": "stderr",
     "output_type": "stream",
     "text": [
      "C:\\ProgramData\\Anaconda3\\lib\\site-packages\\ema_workbench\\em_framework\\optimization.py:48: ImportWarning: platypus based optimization not available\n",
      "  warnings.warn(\"platypus based optimization not available\", ImportWarning)\n",
      "C:\\ProgramData\\Anaconda3\\lib\\site-packages\\ema_workbench\\connectors\\__init__.py:17: ImportWarning: vensim connector not available\n",
      "  warnings.warn(\"vensim connector not available\", ImportWarning)\n"
     ]
    }
   ],
   "source": [
    "from ema_workbench import (RealParameter, IntegerParameter, BooleanParameter, CategoricalParameter, \n",
    "                           Constant, save_results, load_results,\n",
    "                           ema_logging, TimeSeriesOutcome, perform_experiments)\n",
    "from ema_workbench.connectors.netlogo import NetLogoModel\n",
    "from ema_workbench.em_framework.evaluators import MultiprocessingEvaluator\n",
    "\n",
    "import numpy as np\n",
    "import pandas as pd"
   ]
  },
  {
   "cell_type": "markdown",
   "id": "3b3109f0",
   "metadata": {},
   "source": [
    "## Base Case"
   ]
  },
  {
   "cell_type": "code",
   "execution_count": 2,
   "id": "f00f9473",
   "metadata": {},
   "outputs": [
    {
     "name": "stderr",
     "output_type": "stream",
     "text": [
      "[MainProcess/INFO] performing 1 scenarios * 1 policies * 1 model(s) = 1 experiments\n",
      "[MainProcess/INFO] performing experiments sequentially\n",
      "[MainProcess/INFO] 1 cases completed\n",
      "[MainProcess/INFO] experiments finished\n"
     ]
    }
   ],
   "source": [
    "ticks_in_a_year = 183\n",
    "years=5 #including burn-in-period\n",
    "\n",
    "if __name__ == '__main__':\n",
    "    # turn on logging\n",
    "    ema_logging.log_to_stderr(ema_logging.INFO)\n",
    "\n",
    "    model = NetLogoModel(\"DefSC\", wd=\"C:/Users/chris/Documents/EPA/Afstuderen/Model\" , \n",
    "                         model_file=\"Bicycle supply chain model 18.nlogo\")\n",
    "    \n",
    "    model.run_length = 183*5\n",
    "    model.replications = 50\n",
    "\n",
    "    model.uncertainties = [IntegerParameter(\"yearly_demand_growth\", 9.999, 10)]\n",
    "                    \n",
    "    \n",
    "    model.levers = [IntegerParameter(\"initial_justification\", 29.999, 30)]\n",
    "\n",
    "    \n",
    "    model.outcomes = [TimeSeriesOutcome('orders_waiting_time'),\n",
    "                      TimeSeriesOutcome('effort_end-users'),\n",
    "                      TimeSeriesOutcome('effort_facility_companies'),\n",
    "                      TimeSeriesOutcome('effort_finance_and_control'),\n",
    "                      TimeSeriesOutcome('effort_manager'),\n",
    "                      TimeSeriesOutcome('budget_exceedance'),\n",
    "                      TimeSeriesOutcome('demand_end-users'),\n",
    "                      ]\n",
    "    \n",
    "    #override some of the defaults of the model\n",
    "    model.constants = [Constant(\"ticks_in_year\", 183),\n",
    "                       Constant(\"burn-in_period\", 1),\n",
    "                       Constant(\"order_value_limit_fc\", 30000),\n",
    "                       Constant(\"order_value_limit_facco\", 5000)\n",
    "                       ]\n",
    "    \n",
    "    #\n",
    "    results = perform_experiments(model, scenarios=1, policies=1)\n",
    "    \n",
    "    # perform experiments    \n",
    "    #with MultiprocessingEvaluator(model, n_processes=1, maxtasksperchild=4) as evaluator:\n",
    "    #    results = evaluator.perform_experiments(scenarios=50, policies=6)\n",
    "\n",
    "    experiments, outcomes = results"
   ]
  },
  {
   "cell_type": "code",
   "execution_count": 3,
   "id": "639157eb",
   "metadata": {},
   "outputs": [
    {
     "name": "stderr",
     "output_type": "stream",
     "text": [
      "[MainProcess/INFO] results saved successfully to C:\\Users\\chris\\Documents\\EPA\\Afstuderen\\Model\\BaseCase.tar.gz\n"
     ]
    }
   ],
   "source": [
    "save_results(results, 'BaseCase.tar.gz')"
   ]
  },
  {
   "cell_type": "markdown",
   "id": "f8b3b163",
   "metadata": {},
   "source": [
    "## Exploration with 300 experiments and 10 reps."
   ]
  },
  {
   "cell_type": "code",
   "execution_count": null,
   "id": "f31b5165",
   "metadata": {},
   "outputs": [
    {
     "name": "stderr",
     "output_type": "stream",
     "text": [
      "[MainProcess/INFO] performing 50 scenarios * 6 policies * 1 model(s) = 300 experiments\n",
      "[MainProcess/INFO] performing experiments sequentially\n"
     ]
    }
   ],
   "source": [
    "ticks_in_a_year = 183\n",
    "years=5 #including burn-in-period\n",
    "\n",
    "if __name__ == '__main__':\n",
    "    # turn on logging\n",
    "    ema_logging.log_to_stderr(ema_logging.INFO)\n",
    "\n",
    "    model = NetLogoModel(\"DefSC\", wd=\"C:/Users/chris/Documents/EPA/Afstuderen/Model\" , \n",
    "                         model_file=\"Bicycle supply chain model 18.nlogo\")\n",
    "    \n",
    "    model.run_length = 183*5\n",
    "    model.replications = 10\n",
    "\n",
    "    model.uncertainties = [#demand uncertainties\n",
    "                            RealParameter(\"yearly_demand_growth\", 0, 10),\n",
    "                            IntegerParameter(\"bicycle_average_lifetime_years\", 4, 6),\n",
    "                            IntegerParameter(\"share_demand_malfunctioning\", 10, 40),\n",
    "                            IntegerParameter(\"initial_amount_of_bicycles\", 2, 6),\n",
    "                           \n",
    "                           #supplier uncertainties\n",
    "                           IntegerParameter('manufacturing_cycle', 3, 9),\n",
    "                           IntegerParameter('production_rate', 5, 20),\n",
    "                           IntegerParameter('max_supplier_stock', 100, 2000),\n",
    "                           IntegerParameter('price_per_bike', 200, 600),\n",
    "                           ]\n",
    "    \n",
    "    model.levers = [IntegerParameter(\"initial_justification\", 0, 50),\n",
    "                    IntegerParameter(\"order_processing_capacity\", 1, 5),\n",
    "                    IntegerParameter(\"critical_budget_left_share\", 0, 20),\n",
    "                    IntegerParameter(\"facility_companies_budget_yearly_total\", 300000, 1000000),\n",
    "                    IntegerParameter(\"general_willingness_to_share\", 1, 3),\n",
    "                    BooleanParameter(\"predictive_replacements\"),\n",
    "                    ]\n",
    "\n",
    "    model.outcomes = [TimeSeriesOutcome('orders_waiting_time'),\n",
    "                      TimeSeriesOutcome('effort_end-users'),\n",
    "                      TimeSeriesOutcome('effort_facility_companies'),\n",
    "                      TimeSeriesOutcome('effort_finance_and_control'),\n",
    "                      TimeSeriesOutcome('effort_manager'),\n",
    "                      TimeSeriesOutcome('budget_exceedance'),\n",
    "                      TimeSeriesOutcome('demand_end-users'),\n",
    "                      ]\n",
    "    \n",
    "    #override some of the defaults of the model\n",
    "    model.constants = [Constant(\"ticks_in_year\", 183),\n",
    "                       Constant(\"burn-in_period\", 1),\n",
    "                       Constant(\"order_value_limit_fc\", 30000),\n",
    "                       Constant(\"order_value_limit_facco\", 5000)\n",
    "                       ]\n",
    "    \n",
    "    #\n",
    "    results = perform_experiments(model, scenarios=50, policies=6)\n",
    "    \n",
    "    # perform experiments    \n",
    "    #with MultiprocessingEvaluator(model, n_processes=1, maxtasksperchild=4) as evaluator:\n",
    "    #    results = evaluator.perform_experiments(scenarios=50, policies=6)\n",
    "\n",
    "    experiments, outcomes = results"
   ]
  },
  {
   "cell_type": "code",
   "execution_count": 4,
   "id": "3cc6c6aa",
   "metadata": {},
   "outputs": [
    {
     "name": "stderr",
     "output_type": "stream",
     "text": [
      "[MainProcess/INFO] results saved successfully to C:\\Users\\chris\\Documents\\EPA\\Afstuderen\\Model\\50scenarios_6policies.tar.gz\n"
     ]
    }
   ],
   "source": [
    "save_results(results, '50scenarios_6policies.tar.gz')"
   ]
  }
 ],
 "metadata": {
  "kernelspec": {
   "display_name": "Python 3",
   "language": "python",
   "name": "python3"
  },
  "language_info": {
   "codemirror_mode": {
    "name": "ipython",
    "version": 3
   },
   "file_extension": ".py",
   "mimetype": "text/x-python",
   "name": "python",
   "nbconvert_exporter": "python",
   "pygments_lexer": "ipython3",
   "version": "3.8.8"
  }
 },
 "nbformat": 4,
 "nbformat_minor": 5
}
